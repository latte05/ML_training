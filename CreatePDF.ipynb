{
  "nbformat": 4,
  "nbformat_minor": 0,
  "metadata": {
    "colab": {
      "name": "CreatePDF.ipynb",
      "version": "0.3.2",
      "provenance": [],
      "include_colab_link": true
    },
    "kernelspec": {
      "display_name": "Python 3",
      "language": "python",
      "name": "python3"
    }
  },
  "cells": [
    {
      "cell_type": "markdown",
      "metadata": {
        "id": "view-in-github",
        "colab_type": "text"
      },
      "source": [
        "<a href=\"https://colab.research.google.com/github/latte05/ML_training/blob/master/CreatePDF.ipynb\" target=\"_parent\"><img src=\"https://colab.research.google.com/assets/colab-badge.svg\" alt=\"Open In Colab\"/></a>"
      ]
    },
    {
      "metadata": {
        "colab_type": "code",
        "id": "xDAVO81cXJ32",
        "colab": {}
      },
      "cell_type": "code",
      "source": [
        "# This is for creating PDF file and iamge crop sample"
      ],
      "execution_count": 0,
      "outputs": []
    },
    {
      "metadata": {
        "colab_type": "code",
        "id": "Y3vDDsdtXZfm",
        "colab": {}
      },
      "cell_type": "code",
      "source": [
        "import zipfile\n",
        "\n",
        " with zipfile.ZipFile('zippedPhotos.zip','r') as inputFile:\n",
        "     inputFile.extractall()"
      ],
      "execution_count": 0,
      "outputs": []
    },
    {
      "metadata": {
        "colab_type": "code",
        "id": "bwSie07bXesg",
        "colab": {}
      },
      "cell_type": "code",
      "source": [
        "import numpy as np\n",
        "import pandas as pd\n",
        "import matplotlib.pyplot as plt\n",
        "import cv2"
      ],
      "execution_count": 0,
      "outputs": []
    },
    {
      "metadata": {
        "colab_type": "code",
        "id": "u2oHMUHydoCe",
        "colab": {}
      },
      "cell_type": "code",
      "source": [
        "cd ./input/hands/"
      ],
      "execution_count": 0,
      "outputs": []
    },
    {
      "metadata": {
        "colab_type": "code",
        "id": "mz6zpCxkXzma",
        "colab": {}
      },
      "cell_type": "code",
      "source": [
        "import glob\n",
        "\n",
        "files = glob.glob(\"*.PNG\")\n",
        "fd = \"../hands-edit/\"\n",
        "for f in files:\n",
        "  img = cv2.imread(f)\n",
        "  #img = cv2.cvtColor(img, cv2.COLOR_BGR2RGB)　#image write するときにまた元にもどる？\n",
        "  img2 = img[130:,:]\n",
        "  cv2.imwrite(fd+f, img2)"
      ],
      "execution_count": 0,
      "outputs": []
    },
    {
      "metadata": {
        "colab_type": "code",
        "id": "jOJOoWzWi5NG",
        "colab": {}
      },
      "cell_type": "code",
      "source": [
        "cd ../hands/"
      ],
      "execution_count": 0,
      "outputs": []
    },
    {
      "metadata": {
        "id": "kiVFD_Duq0Vn",
        "colab_type": "code",
        "colab": {}
      },
      "cell_type": "code",
      "source": [
        "cd ../jpg/"
      ],
      "execution_count": 0,
      "outputs": []
    },
    {
      "metadata": {
        "id": "ElPSyTM8q0Vr",
        "colab_type": "code",
        "colab": {}
      },
      "cell_type": "code",
      "source": [
        "!pip install fpdf"
      ],
      "execution_count": 0,
      "outputs": []
    },
    {
      "metadata": {
        "colab_type": "code",
        "id": "GvVHCKq0zUdI",
        "colab": {}
      },
      "cell_type": "code",
      "source": [
        "from PIL import Image\n",
        "\n",
        "jpgs = glob.glob(\"*.jpg\")\n",
        "\n",
        "#jpg.str.replace(\".jpg\", \".PNG\")\n",
        "for im in jpgs:\n",
        "    img = Image.open(im)\n",
        "    new_name = im.replace(\".jpg\",\".PNG\")\n",
        "    img.save(new_name)"
      ],
      "execution_count": 0,
      "outputs": []
    },
    {
      "metadata": {
        "colab_type": "code",
        "id": "WutIxeHL1Z9h",
        "colab": {}
      },
      "cell_type": "code",
      "source": [
        "from fpdf import FPDF\n",
        "from PIL import Image\n",
        "def makePdf(pdfFileName, listPages, dir = ''):\n",
        "    if (dir):\n",
        "        dir += \"/\"\n",
        "\n",
        "    cover = Image.open(dir + str(listPages[0]))\n",
        "    width, height = cover.size\n",
        "\n",
        "    pdf = FPDF(unit = \"pt\", format = [width, height])\n",
        "\n",
        "    for page in listPages:\n",
        "        pdf.add_page()\n",
        "        pdf.image(dir + str(page), 0, 0)\n",
        "\n",
        "    pdf.output(dir + pdfFileName + \".pdf\", \"F\")"
      ],
      "execution_count": 0,
      "outputs": []
    },
    {
      "metadata": {
        "id": "mbws3Hp6q0V6",
        "colab_type": "code",
        "colab": {}
      },
      "cell_type": "code",
      "source": [
        "cd ../hands-edit/"
      ],
      "execution_count": 0,
      "outputs": []
    },
    {
      "metadata": {
        "colab_type": "code",
        "id": "i3S3Imp53cqC",
        "colab": {}
      },
      "cell_type": "code",
      "source": [
        "listPages = glob.glob(\"*\")"
      ],
      "execution_count": 0,
      "outputs": []
    },
    {
      "metadata": {
        "colab_type": "code",
        "id": "QDt277hX3rEH",
        "colab": {}
      },
      "cell_type": "code",
      "source": [
        "listPages.sort()"
      ],
      "execution_count": 0,
      "outputs": []
    },
    {
      "metadata": {
        "colab_type": "code",
        "id": "lGkBkQhE3xOG",
        "colab": {}
      },
      "cell_type": "code",
      "source": [
        "makePdf(\"filename\", listPages)"
      ],
      "execution_count": 0,
      "outputs": []
    },
    {
      "metadata": {
        "colab_type": "code",
        "id": "HVx2H4et3jB5",
        "colab": {}
      },
      "cell_type": "code",
      "source": [
        ""
      ],
      "execution_count": 0,
      "outputs": []
    },
    {
      "metadata": {
        "colab_type": "code",
        "id": "XHW7wXEw2-H9",
        "colab": {}
      },
      "cell_type": "code",
      "source": [
        ""
      ],
      "execution_count": 0,
      "outputs": []
    },
    {
      "metadata": {
        "colab_type": "code",
        "id": "GhF9STLK3FcC",
        "colab": {}
      },
      "cell_type": "code",
      "source": [
        ""
      ],
      "execution_count": 0,
      "outputs": []
    },
    {
      "metadata": {
        "colab_type": "code",
        "id": "v4Xk9o5t25Mx",
        "colab": {}
      },
      "cell_type": "code",
      "source": [
        ""
      ],
      "execution_count": 0,
      "outputs": []
    }
  ]
}