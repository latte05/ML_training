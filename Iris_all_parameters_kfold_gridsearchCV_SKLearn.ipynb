{
  "nbformat": 4,
  "nbformat_minor": 0,
  "metadata": {
    "colab": {
      "name": "Iris_all_parameters_kfold_gridsearchCV_SKLearn.ipynb",
      "version": "0.3.2",
      "provenance": [],
      "collapsed_sections": [],
      "include_colab_link": true
    },
    "kernelspec": {
      "name": "python3",
      "display_name": "Python 3"
    }
  },
  "cells": [
    {
      "cell_type": "markdown",
      "metadata": {
        "id": "view-in-github",
        "colab_type": "text"
      },
      "source": [
        "<a href=\"https://colab.research.google.com/github/latte05/ML_training/blob/master/Iris_all_parameters_kfold_gridsearchCV_SKLearn.ipynb\" target=\"_parent\"><img src=\"https://colab.research.google.com/assets/colab-badge.svg\" alt=\"Open In Colab\"/></a>"
      ]
    },
    {
      "metadata": {
        "id": "zfCPdACTBCdh",
        "colab_type": "code",
        "colab": {
          "base_uri": "https://localhost:8080/",
          "height": 34
        },
        "outputId": "31356138-5bdb-4a55-92c1-eabf8d98f17a"
      },
      "cell_type": "code",
      "source": [
        "import urllib.request as req\n",
        "import pandas as pd\n",
        "\n",
        "url = \"https://raw.githubusercontent.com/pandas-dev/pandas/master/pandas/tests/data/iris.csv\"\n",
        "savefile = \"iris.csv\"\n",
        "req.urlretrieve(url,savefile)"
      ],
      "execution_count": 1,
      "outputs": [
        {
          "output_type": "execute_result",
          "data": {
            "text/plain": [
              "('iris.csv', <http.client.HTTPMessage at 0x7f26b9fbf4e0>)"
            ]
          },
          "metadata": {
            "tags": []
          },
          "execution_count": 1
        }
      ]
    },
    {
      "metadata": {
        "id": "hEekOwgB_9gI",
        "colab_type": "code",
        "colab": {
          "base_uri": "https://localhost:8080/",
          "height": 554
        },
        "outputId": "c8ef8c19-06c9-4f68-93ff-42dd61da87e4"
      },
      "cell_type": "code",
      "source": [
        "import pandas as pd\n",
        "from sklearn.model_selection import train_test_split\n",
        "from sklearn.metrics import accuracy_score\n",
        "import warnings\n",
        "from sklearn.utils.testing import all_estimators\n",
        "from sklearn.model_selection import KFold\n",
        "from sklearn.model_selection import cross_val_score\n",
        "\n",
        "#data import\n",
        "iris_data = pd.read_csv(\"iris.csv\")\n",
        "\n",
        "y = iris_data.loc[:,\"Name\"]\n",
        "x = iris_data.loc[:,[\"SepalLength\",\"SepalWidth\",\"PetalLength\",\"PetalWidth\"]]\n",
        "\n",
        "x_train, x_test, y_train, y_test = train_test_split(x,y, test_size=0.2, train_size=0.8, shuffle = True)\n",
        "\n",
        "#Classification\n",
        "warnings.filterwarnings('ignore')\n",
        "allAlgorithms = all_estimators(type_filter=\"classifier\")\n",
        "\n",
        "for(name, algorithm) in allAlgorithms:\n",
        "  \n",
        "  clf = algorithm()\n",
        "  \n",
        "  clf.fit(x_train, y_train)\n",
        "  y_pred = clf.predict(x_test)\n",
        "  print(name, \"'s accuracy='\", accuracy_score(y_test, y_pred))\n",
        "\n",
        "  "
      ],
      "execution_count": 2,
      "outputs": [
        {
          "output_type": "stream",
          "text": [
            "AdaBoostClassifier 's accuracy=' 0.9666666666666667\n",
            "BaggingClassifier 's accuracy=' 0.9666666666666667\n",
            "BernoulliNB 's accuracy=' 0.3\n",
            "CalibratedClassifierCV 's accuracy=' 0.9666666666666667\n",
            "ComplementNB 's accuracy=' 0.6666666666666666\n",
            "DecisionTreeClassifier 's accuracy=' 0.9666666666666667\n",
            "ExtraTreeClassifier 's accuracy=' 0.9333333333333333\n",
            "ExtraTreesClassifier 's accuracy=' 0.9666666666666667\n",
            "GaussianNB 's accuracy=' 0.9666666666666667\n",
            "GaussianProcessClassifier 's accuracy=' 0.9666666666666667\n",
            "GradientBoostingClassifier 's accuracy=' 0.9666666666666667\n",
            "KNeighborsClassifier 's accuracy=' 0.9666666666666667\n",
            "LabelPropagation 's accuracy=' 0.9666666666666667\n",
            "LabelSpreading 's accuracy=' 0.9666666666666667\n",
            "LinearDiscriminantAnalysis 's accuracy=' 1.0\n",
            "LinearSVC 's accuracy=' 1.0\n",
            "LogisticRegression 's accuracy=' 1.0\n",
            "LogisticRegressionCV 's accuracy=' 0.9666666666666667\n",
            "MLPClassifier 's accuracy=' 1.0\n",
            "MultinomialNB 's accuracy=' 1.0\n",
            "NearestCentroid 's accuracy=' 0.8666666666666667\n",
            "NuSVC 's accuracy=' 0.9666666666666667\n",
            "PassiveAggressiveClassifier 's accuracy=' 0.7333333333333333\n",
            "Perceptron 's accuracy=' 0.6333333333333333\n",
            "QuadraticDiscriminantAnalysis 's accuracy=' 1.0\n",
            "RadiusNeighborsClassifier 's accuracy=' 0.9666666666666667\n",
            "RandomForestClassifier 's accuracy=' 0.9666666666666667\n",
            "RidgeClassifier 's accuracy=' 0.8666666666666667\n",
            "RidgeClassifierCV 's accuracy=' 0.8666666666666667\n",
            "SGDClassifier 's accuracy=' 0.6666666666666666\n",
            "SVC 's accuracy=' 0.9666666666666667\n"
          ],
          "name": "stdout"
        }
      ]
    },
    {
      "metadata": {
        "id": "KkfF7QkbAsQC",
        "colab_type": "code",
        "colab": {
          "base_uri": "https://localhost:8080/",
          "height": 1092
        },
        "outputId": "57791d62-f7eb-42bd-8a48-3c62bb87650d"
      },
      "cell_type": "code",
      "source": [
        "kfold_cv = KFold(n_splits=5, shuffle=True)\n",
        "\n",
        "for(name, algorithm) in allAlgorithms:\n",
        "  clf = algorithm()\n",
        "  \n",
        "  if hasattr(clf,\"score\"):\n",
        "    scores = cross_val_score(clf, x, y, cv=kfold_cv)\n",
        "    print(name,\"accuracy:\" )\n",
        "    print(scores)"
      ],
      "execution_count": 3,
      "outputs": [
        {
          "output_type": "stream",
          "text": [
            "AdaBoostClassifier accuracy:\n",
            "[0.96666667 0.96666667 0.93333333 0.9        0.96666667]\n",
            "BaggingClassifier accuracy:\n",
            "[0.93333333 0.96666667 0.93333333 1.         0.93333333]\n",
            "BernoulliNB accuracy:\n",
            "[0.23333333 0.26666667 0.16666667 0.13333333 0.26666667]\n",
            "CalibratedClassifierCV accuracy:\n",
            "[0.86666667 0.96666667 0.9        0.93333333 1.        ]\n",
            "ComplementNB accuracy:\n",
            "[0.66666667 0.7        0.56666667 0.7        0.7       ]\n",
            "DecisionTreeClassifier accuracy:\n",
            "[0.96666667 0.96666667 0.93333333 0.93333333 0.93333333]\n",
            "ExtraTreeClassifier accuracy:\n",
            "[0.9        0.9        0.9        0.9        0.96666667]\n",
            "ExtraTreesClassifier accuracy:\n",
            "[0.96666667 0.96666667 0.93333333 0.9        0.96666667]\n",
            "GaussianNB accuracy:\n",
            "[0.96666667 0.93333333 0.96666667 0.9        0.96666667]\n",
            "GaussianProcessClassifier accuracy:\n",
            "[1.         0.96666667 0.93333333 0.9        0.93333333]\n",
            "GradientBoostingClassifier accuracy:\n",
            "[0.96666667 1.         0.96666667 0.96666667 0.93333333]\n",
            "KNeighborsClassifier accuracy:\n",
            "[0.96666667 0.96666667 0.93333333 1.         0.96666667]\n",
            "LabelPropagation accuracy:\n",
            "[0.93333333 0.93333333 1.         0.93333333 1.        ]\n",
            "LabelSpreading accuracy:\n",
            "[0.93333333 0.93333333 0.93333333 1.         0.96666667]\n",
            "LinearDiscriminantAnalysis accuracy:\n",
            "[1.         0.96666667 1.         0.96666667 0.96666667]\n",
            "LinearSVC accuracy:\n",
            "[0.86666667 0.96666667 0.96666667 1.         1.        ]\n",
            "LogisticRegression accuracy:\n",
            "[1.         0.96666667 1.         0.83333333 1.        ]\n",
            "LogisticRegressionCV accuracy:\n",
            "[1.         0.9        0.96666667 0.93333333 0.96666667]\n",
            "MLPClassifier accuracy:\n",
            "[0.96666667 0.96666667 0.96666667 0.93333333 0.93333333]\n",
            "MultinomialNB accuracy:\n",
            "[1.         0.83333333 0.56666667 0.86666667 0.73333333]\n",
            "NearestCentroid accuracy:\n",
            "[0.93333333 0.96666667 0.93333333 0.96666667 0.83333333]\n",
            "NuSVC accuracy:\n",
            "[0.93333333 1.         0.96666667 1.         0.93333333]\n",
            "PassiveAggressiveClassifier accuracy:\n",
            "[0.63333333 0.63333333 0.53333333 0.9        0.6       ]\n",
            "Perceptron accuracy:\n",
            "[0.66666667 0.76666667 0.4        0.3        0.93333333]\n",
            "QuadraticDiscriminantAnalysis accuracy:\n",
            "[0.96666667 0.9        1.         1.         1.        ]\n",
            "RadiusNeighborsClassifier accuracy:\n",
            "[1.         0.96666667 0.9        1.         0.9       ]\n",
            "RandomForestClassifier accuracy:\n",
            "[0.96666667 1.         0.96666667 0.96666667 0.9       ]\n",
            "RidgeClassifier accuracy:\n",
            "[0.7        0.86666667 0.8        1.         0.93333333]\n",
            "RidgeClassifierCV accuracy:\n",
            "[0.8        0.86666667 0.73333333 0.76666667 0.86666667]\n",
            "SGDClassifier accuracy:\n",
            "[0.63333333 0.63333333 0.5        0.66666667 0.73333333]\n",
            "SVC accuracy:\n",
            "[1.         0.93333333 0.96666667 1.         1.        ]\n"
          ],
          "name": "stdout"
        }
      ]
    },
    {
      "metadata": {
        "id": "XbrdddXy8Gwb",
        "colab_type": "code",
        "colab": {
          "base_uri": "https://localhost:8080/",
          "height": 104
        },
        "outputId": "9f59ab1f-fcfd-4e77-c656-0ff24685cbf3"
      },
      "cell_type": "code",
      "source": [
        "from sklearn.svm import SVC\n",
        "from sklearn.model_selection import GridSearchCV\n",
        "\n",
        "x_train, x_test, y_train, y_test = train_test_split(x, y, test_size = 0.2, train_size = 0.8, shuffle = True)\n",
        "\n",
        "parameters = [\n",
        "    {\"C\": [1, 10, 100, 1000], \"kernel\":[\"linear\"]},\n",
        "    {\"C\": [1, 10, 100, 1000], \"kernel\":[\"rbf\"], \"gamma\":[0.001, 0.0001]},\n",
        "    {\"C\": [1, 10, 100, 1000], \"kernel\":[\"sigmoid\"], \"gamma\":[0.001, 0.0001]}\n",
        "]\n",
        "\n",
        "kfold_cv = KFold(n_splits = 5, shuffle=True)\n",
        "clf = GridSearchCV( SVC(), parameters, cv=kfold_cv)\n",
        "clf.fit(x_train, y_train)\n",
        "print(\"optimized paramter:\", clf.best_estimator_)\n",
        "\n",
        "y_pred = clf.predict(x_test)\n",
        "print(\"Evaluation Accracy:\", accuracy_score(y_test, y_pred))\n"
      ],
      "execution_count": 5,
      "outputs": [
        {
          "output_type": "stream",
          "text": [
            "optimized paramter: SVC(C=1, cache_size=200, class_weight=None, coef0=0.0,\n",
            "  decision_function_shape='ovr', degree=3, gamma='auto_deprecated',\n",
            "  kernel='linear', max_iter=-1, probability=False, random_state=None,\n",
            "  shrinking=True, tol=0.001, verbose=False)\n",
            "Evaluation Accracy: 1.0\n"
          ],
          "name": "stdout"
        }
      ]
    },
    {
      "metadata": {
        "id": "fMMSB4MM_DJ-",
        "colab_type": "code",
        "colab": {}
      },
      "cell_type": "code",
      "source": [
        ""
      ],
      "execution_count": 0,
      "outputs": []
    }
  ]
}